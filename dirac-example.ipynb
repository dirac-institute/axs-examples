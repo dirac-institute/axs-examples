{
 "cells": [
  {
   "cell_type": "code",
   "execution_count": 1,
   "metadata": {},
   "outputs": [],
   "source": [
    "from dirac import DataBase"
   ]
  },
  {
   "cell_type": "code",
   "execution_count": 2,
   "metadata": {},
   "outputs": [
    {
     "data": {
      "text/html": [
       "<p><strong>Dashboard: <a href=https://hub.dirac.astro.washington.edu/user/stevenstetzler/proxy/4040/jobs/>https://hub.dirac.astro.washington.edu/user/stevenstetzler/proxy/4040/jobs/</a></strong></p> <p><strong>Status:</strong> Creating SparkSession </p> <p>Setting config: spark.executor.instances=2<p> <p>Setting config: spark.kubernetes.executor.podNamePrefix=pyspark-1567588654-stevenstetzler-spark<p> <p><strong>Status:</strong> Polling Kubernetes cluster</p> <p>Updated at: 2019-09-04 09:17:47.413835</p> <table> <tr> <th>Status</th> <th>Pod Name</th> <th>Message</th> </tr> <tr style='overflow-x: scroll;'> <td style='color: green;'><strong>Running</strong></td> <td>pyspark-1567588654-stevenstetzler-spark-exec-1</td> <td>Started container</td> </tr> <tr style='overflow-x: scroll;'> <td style='color: green;'><strong>Running</strong></td> <td>pyspark-1567588654-stevenstetzler-spark-exec-2</td> <td>Started container</td> </tr> </table> <p><strong>Status:</strong> Spark cluster created!</p> <p><strong>Status:</strong> Loading AXS catalogs</p> <p>Adding allwise to AXS catalogs...</p> <p>Adding gaiadr2 to AXS catalogs...</p> <p>Adding sdss to AXS catalogs...</p> <p>Adding ztfsample to AXS catalogs...</p> <p>Adding ztf_mar19 to AXS catalogs...</p> <p><strong>Status:</strong> DataBase initialized!</p>"
      ],
      "text/plain": [
       "<IPython.core.display.HTML object>"
      ]
     },
     "metadata": {},
     "output_type": "display_data"
    }
   ],
   "source": [
    "db = DataBase()"
   ]
  },
  {
   "cell_type": "code",
   "execution_count": 3,
   "metadata": {},
   "outputs": [
    {
     "data": {
      "text/plain": [
       "{'allwise': {'table_id': 'allwise',\n",
       "  'table_name': 'allwise',\n",
       "  'num_buckets': 500,\n",
       "  'zone_height': 0.0166666666,\n",
       "  'bucket_col': 'zone',\n",
       "  'ra_col': 'ra',\n",
       "  'dec_col': 'dec',\n",
       "  'has_lightcurves': False,\n",
       "  'lc_columns': JavaObject id=o107},\n",
       " 'gaiadr2': {'table_id': 'gaiadr2',\n",
       "  'table_name': 'gaiadr2',\n",
       "  'num_buckets': 500,\n",
       "  'zone_height': 0.0166666666,\n",
       "  'bucket_col': 'zone',\n",
       "  'ra_col': 'ra',\n",
       "  'dec_col': 'dec',\n",
       "  'has_lightcurves': False,\n",
       "  'lc_columns': JavaObject id=o109},\n",
       " 'sdss': {'table_id': 'sdss',\n",
       "  'table_name': 'sdss',\n",
       "  'num_buckets': 500,\n",
       "  'zone_height': 0.0166666666,\n",
       "  'bucket_col': 'zone',\n",
       "  'ra_col': 'ra',\n",
       "  'dec_col': 'dec',\n",
       "  'has_lightcurves': False,\n",
       "  'lc_columns': JavaObject id=o111},\n",
       " 'ztfsample': {'table_id': 'ztfsample',\n",
       "  'table_name': 'ztfsample',\n",
       "  'num_buckets': 500,\n",
       "  'zone_height': 0.0166666666,\n",
       "  'bucket_col': 'zone',\n",
       "  'ra_col': 'ra',\n",
       "  'dec_col': 'dec',\n",
       "  'has_lightcurves': False,\n",
       "  'lc_columns': JavaObject id=o113},\n",
       " 'ztf_mar19': {'table_id': 'ztf_mar19',\n",
       "  'table_name': 'ztf_mar19',\n",
       "  'num_buckets': 500,\n",
       "  'zone_height': 0.0166666666,\n",
       "  'bucket_col': 'zone',\n",
       "  'ra_col': 'ra',\n",
       "  'dec_col': 'dec',\n",
       "  'has_lightcurves': False,\n",
       "  'lc_columns': JavaObject id=o115}}"
      ]
     },
     "execution_count": 3,
     "metadata": {},
     "output_type": "execute_result"
    }
   ],
   "source": [
    "catalogs = db.get_catalogs()\n",
    "catalogs.list_tables()"
   ]
  },
  {
   "cell_type": "code",
   "execution_count": 4,
   "metadata": {},
   "outputs": [],
   "source": [
    "ztf = catalogs.load(\"ztf_mar19\")"
   ]
  }
 ],
 "metadata": {
  "kernelspec": {
   "display_name": "Python 3",
   "language": "python",
   "name": "python3"
  },
  "language_info": {
   "codemirror_mode": {
    "name": "ipython",
    "version": 3
   },
   "file_extension": ".py",
   "mimetype": "text/x-python",
   "name": "python",
   "nbconvert_exporter": "python",
   "pygments_lexer": "ipython3",
   "version": "3.7.3"
  }
 },
 "nbformat": 4,
 "nbformat_minor": 4
}
