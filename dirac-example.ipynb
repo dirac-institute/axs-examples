{
 "cells": [
  {
   "cell_type": "code",
   "execution_count": 1,
   "metadata": {},
   "outputs": [],
   "source": [
    "from dirac import start"
   ]
  },
  {
   "cell_type": "code",
   "execution_count": 2,
   "metadata": {},
   "outputs": [
    {
     "name": "stdout",
     "output_type": "stream",
     "text": [
      "Starting SparkSession creation\n",
      "Building SparkSession...\n",
      "Setting config: spark.executors.instances=2\n",
      "Creating SparkSession. This may take a while.\n",
      "Loading catalogs...\n",
      "Found allwise in AXS catalogs.\n",
      "Found gaiadr2 in AXS catalogs.\n",
      "Found sdss in AXS catalogs.\n"
     ]
    }
   ],
   "source": [
    "db = start()"
   ]
  },
  {
   "cell_type": "code",
   "execution_count": 3,
   "metadata": {},
   "outputs": [],
   "source": [
    "catalogs = db.get_catalogs()"
   ]
  },
  {
   "cell_type": "code",
   "execution_count": 4,
   "metadata": {},
   "outputs": [
    {
     "data": {
      "text/plain": [
       "{'allwise': {'table_id': 'allwise',\n",
       "  'table_name': 'allwise',\n",
       "  'num_buckets': 500,\n",
       "  'zone_height': 0.0166666666,\n",
       "  'bucket_col': 'zone',\n",
       "  'ra_col': 'ra',\n",
       "  'dec_col': 'dec',\n",
       "  'has_lightcurves': False,\n",
       "  'lc_columns': JavaObject id=o99},\n",
       " 'gaiadr2': {'table_id': 'gaiadr2',\n",
       "  'table_name': 'gaiadr2',\n",
       "  'num_buckets': 500,\n",
       "  'zone_height': 0.0166666666,\n",
       "  'bucket_col': 'zone',\n",
       "  'ra_col': 'ra',\n",
       "  'dec_col': 'dec',\n",
       "  'has_lightcurves': False,\n",
       "  'lc_columns': JavaObject id=o101},\n",
       " 'sdss': {'table_id': 'sdss',\n",
       "  'table_name': 'sdss',\n",
       "  'num_buckets': 500,\n",
       "  'zone_height': 0.0166666666,\n",
       "  'bucket_col': 'zone',\n",
       "  'ra_col': 'ra',\n",
       "  'dec_col': 'dec',\n",
       "  'has_lightcurves': False,\n",
       "  'lc_columns': JavaObject id=o103}}"
      ]
     },
     "execution_count": 4,
     "metadata": {},
     "output_type": "execute_result"
    }
   ],
   "source": [
    "catalogs.list_tables()"
   ]
  }
 ],
 "metadata": {
  "kernelspec": {
   "display_name": "Python 3",
   "language": "python",
   "name": "python3"
  },
  "language_info": {
   "codemirror_mode": {
    "name": "ipython",
    "version": 3
   },
   "file_extension": ".py",
   "mimetype": "text/x-python",
   "name": "python",
   "nbconvert_exporter": "python",
   "pygments_lexer": "ipython3",
   "version": "3.7.3"
  }
 },
 "nbformat": 4,
 "nbformat_minor": 2
}
