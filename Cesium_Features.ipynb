{
 "cells": [
  {
   "cell_type": "code",
   "execution_count": null,
   "metadata": {},
   "outputs": [],
   "source": [
    "import os\n",
    "os.environ['MKL_NUM_THREADS']=\"1\"\n",
    "os.environ['NUMEXPR_NUM_THREADS']=\"1\"\n",
    "os.environ['OMP_NUM_THREADS']=\"1\" "
   ]
  },
  {
   "cell_type": "code",
   "execution_count": null,
   "metadata": {},
   "outputs": [],
   "source": [
    "import axs\n",
    "import numpy as np\n",
    "#import mysql.connector as mariadb\n",
    "#from astropy.time import Time\n",
    "import time\n",
    "import scipy\n",
    "import pandas as pd\n",
    "\n",
    "from axs import AxsCatalog, Constants\n",
    "\n",
    "%matplotlib notebook\n",
    "import matplotlib.pyplot as plt\n",
    "\n",
    "#import os\n",
    "from pyspark.sql import SparkSession\n",
    "from pyspark.sql.functions import size as spark_size\n",
    "from pyspark.sql.types import ArrayType, DoubleType\n",
    "from pyspark.sql.functions import pandas_udf\n",
    "import pyspark.sql.functions as F\n",
    "\n",
    "import cesium\n",
    "from cesium.time_series import TimeSeries\n",
    "from cesium.featurize import featurize_single_ts, featurize_time_series\n",
    "\n",
    "from cesium import featurize\n",
    "import dask"
   ]
  },
  {
   "cell_type": "code",
   "execution_count": null,
   "metadata": {},
   "outputs": [],
   "source": [
    "import warnings\n",
    "warnings.filterwarnings('ignore')"
   ]
  },
  {
   "cell_type": "code",
   "execution_count": null,
   "metadata": {},
   "outputs": [],
   "source": [
    "pd.set_option('display.max_columns',200)"
   ]
  },
  {
   "cell_type": "code",
   "execution_count": null,
   "metadata": {},
   "outputs": [],
   "source": [
    "from dirac import DataBase\n",
    "\n",
    "db = DataBase({\"spark.executor.instances\" : \"32\"})\n",
    "\n",
    "spark = db.spark_session"
   ]
  },
  {
   "cell_type": "code",
   "execution_count": null,
   "metadata": {},
   "outputs": [],
   "source": [
    "catalogs = db.get_catalogs()\n",
    "ztfsample = catalogs.load(\"gaiadr2\").exclude_duplicates()\n",
    "print(ztfsample.count(), len(ztfsample.columns))"
   ]
  },
  {
   "cell_type": "code",
   "execution_count": null,
   "metadata": {},
   "outputs": [],
   "source": [
    "ztfsample.limit(5).toPandas()"
   ]
  },
  {
   "cell_type": "code",
   "execution_count": null,
   "metadata": {},
   "outputs": [],
   "source": [
    "features_General = [\"amplitude\",\n",
    "                    \"flux_percentile_ratio_mid20\",\n",
    "                    \"flux_percentile_ratio_mid35\",\n",
    "                    \"flux_percentile_ratio_mid50\",\n",
    "                    \"flux_percentile_ratio_mid65\",\n",
    "                    \"flux_percentile_ratio_mid80\",\n",
    "                    \"max_slope\",\n",
    "                    \"maximum\",\n",
    "                    \"median\",\n",
    "                    \"median_absolute_deviation\",\n",
    "                    \"minimum\",\n",
    "                    \"percent_amplitude\",\n",
    "                    \"percent_beyond_1_std\",\n",
    "                    \"percent_close_to_median\",\n",
    "                    \"percent_difference_flux_percentile\",\n",
    "                    \"period_fast\",\n",
    "                    \"qso_log_chi2_qsonu\",\n",
    "                    \"qso_log_chi2nuNULL_chi2nu\",\n",
    "                    \"skew\",\n",
    "                    \"std\",\n",
    "                    \"stetson_j\",\n",
    "                    \"stetson_k\",\n",
    "                    \"weighted_average\"]\n",
    "\n",
    "features_Cadence = [\"all_times_nhist_numpeaks\",\n",
    "                    \"all_times_nhist_peak1_bin\",\n",
    "                    \"all_times_nhist_peak2_bin\",\n",
    "                    \"all_times_nhist_peak3_bin\",\n",
    "                    \"all_times_nhist_peak4_bin\",\n",
    "                    \"all_times_nhist_peak_1_to_2\",\n",
    "                    \"all_times_nhist_peak_1_to_3\",\n",
    "                    \"all_times_nhist_peak_1_to_4\",\n",
    "                    \"all_times_nhist_peak_2_to_3\",\n",
    "                    \"all_times_nhist_peak_2_to_4\",\n",
    "                    \"all_times_nhist_peak_3_to_4\",\n",
    "                    \"all_times_nhist_peak_val\",\n",
    "                    \"avg_double_to_single_step\",\n",
    "                    \"avg_err\",\n",
    "                    \"avgt\",\n",
    "                    \"cad_probs_1\",\n",
    "                    \"cad_probs_10\",\n",
    "                    \"cad_probs_20\",\n",
    "                    \"cad_probs_30\",\n",
    "                    \"cad_probs_40\",\n",
    "                    \"cad_probs_50\",\n",
    "                    \"cad_probs_100\",\n",
    "                    \"cad_probs_500\",\n",
    "                    \"cad_probs_1000\",\n",
    "                    \"cad_probs_5000\",\n",
    "                    \"cad_probs_10000\",\n",
    "                    \"cad_probs_50000\",\n",
    "                    \"cad_probs_100000\",\n",
    "                    \"cad_probs_500000\",\n",
    "                    \"cad_probs_1000000\",\n",
    "                    \"cad_probs_5000000\",\n",
    "                    \"cad_probs_10000000\",\n",
    "                    \"cads_avg\",\n",
    "                    \"cads_med\",\n",
    "                    \"cads_std\",\n",
    "                    \"mean\",\n",
    "                    \"med_double_to_single_step\",\n",
    "                    \"med_err\",\n",
    "                    \"n_epochs\",\n",
    "                    \"std_double_to_single_step\",\n",
    "                    \"std_err\",\n",
    "                    \"total_time\"]\n",
    "\n",
    "features_LS =  [\"fold2P_slope_10percentile\",\n",
    "                \"fold2P_slope_90percentile\",\n",
    "                \"freq1_amplitude1\",\n",
    "                \"freq1_amplitude2\",\n",
    "                \"freq1_amplitude3\",\n",
    "                \"freq1_amplitude4\",\n",
    "                \"freq1_freq\",\n",
    "                \"freq1_lambda\",\n",
    "                \"freq1_rel_phase2\",\n",
    "                \"freq1_rel_phase3\",\n",
    "                \"freq1_rel_phase4\",\n",
    "                \"freq1_signif\",\n",
    "                \"freq2_amplitude1\",\n",
    "                \"freq2_amplitude2\",\n",
    "                \"freq2_amplitude3\",\n",
    "                \"freq2_amplitude4\",\n",
    "                \"freq2_freq\",\n",
    "                \"freq2_rel_phase2\",\n",
    "                \"freq2_rel_phase3\",\n",
    "                \"freq2_rel_phase4\",\n",
    "                \"freq3_amplitude1\",\n",
    "                \"freq3_amplitude2\",\n",
    "                \"freq3_amplitude3\",\n",
    "                \"freq3_amplitude4\",\n",
    "                \"freq3_freq\",\n",
    "                \"freq3_rel_phase2\",\n",
    "                \"freq3_rel_phase3\",\n",
    "                \"freq3_rel_phase4\",\n",
    "                \"freq_amplitude_ratio_21\",\n",
    "                \"freq_amplitude_ratio_31\",\n",
    "                \"freq_frequency_ratio_21\",\n",
    "                \"freq_frequency_ratio_31\",\n",
    "                \"freq_model_max_delta_mags\",\n",
    "                \"freq_model_min_delta_mags\",\n",
    "                \"freq_model_phi1_phi2\",\n",
    "                \"freq_n_alias\",\n",
    "                \"freq_signif_ratio_21\",\n",
    "                \"freq_signif_ratio_31\",\n",
    "                \"freq_varrat\",\n",
    "                \"freq_y_offset\",\n",
    "                \"linear_trend\",\n",
    "                \"medperc90_2p_p\",\n",
    "                \"p2p_scatter_2praw\",\n",
    "                \"p2p_scatter_over_mad\",\n",
    "                \"p2p_scatter_pfold_over_mad\",\n",
    "                \"p2p_ssqr_diff_over_var\",\n",
    "                \"scatter_res_raw\"]"
   ]
  },
  {
   "cell_type": "code",
   "execution_count": null,
   "metadata": {},
   "outputs": [],
   "source": [
    "print('total number of time-series features in cesium: \\\n",
    "      {}'.format(len(features_Cadence+features_General+features_LS)))"
   ]
  },
  {
   "cell_type": "code",
   "execution_count": null,
   "metadata": {},
   "outputs": [],
   "source": [
    "%%time\n",
    "\n",
    "lcs = ztfsample.head(100)"
   ]
  },
  {
   "cell_type": "code",
   "execution_count": null,
   "metadata": {},
   "outputs": [],
   "source": [
    "type(lcs), len(lcs)"
   ]
  },
  {
   "cell_type": "code",
   "execution_count": null,
   "metadata": {},
   "outputs": [],
   "source": [
    "%%time\n",
    "\n",
    "N = 100\n",
    "fset_cesium = featurize.featurize_time_series([np.array(lc['jd']) for lc in lcs[:N]],\n",
    "                                              [np.array(lc['dc_mag']) for lc in lcs[:N]],\n",
    "                                              [np.array(lc['dc_sigmag']) for lc in lcs[:N]],\n",
    "                                              features_to_use=features_General+features_LS+features_Cadence,\n",
    "                                              scheduler=dask.local.get_sync)\n",
    "\n",
    "fset_cesium"
   ]
  },
  {
   "cell_type": "code",
   "execution_count": null,
   "metadata": {},
   "outputs": [],
   "source": []
  }
 ],
 "metadata": {
  "kernelspec": {
   "display_name": "Python 3",
   "language": "python",
   "name": "python3"
  },
  "language_info": {
   "codemirror_mode": {
    "name": "ipython",
    "version": 3
   },
   "file_extension": ".py",
   "mimetype": "text/x-python",
   "name": "python",
   "nbconvert_exporter": "python",
   "pygments_lexer": "ipython3",
   "version": "3.7.3"
  }
 },
 "nbformat": 4,
 "nbformat_minor": 4
}
